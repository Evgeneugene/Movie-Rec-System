{
 "cells": [
  {
   "cell_type": "code",
   "execution_count": 22,
   "id": "1561f267",
   "metadata": {},
   "outputs": [
    {
     "name": "stdout",
     "output_type": "stream",
     "text": [
      "u1.base ../data/interim/\n",
      "u1.test ../data/interim/\n",
      "u2.base ../data/interim/\n",
      "u2.test ../data/interim/\n",
      "u3.base ../data/interim/\n",
      "u3.test ../data/interim/\n",
      "u4.base ../data/interim/\n",
      "u4.test ../data/interim/\n",
      "u5.base ../data/interim/\n",
      "u5.test ../data/interim/\n",
      "ua.base ../benchmark/data/\n",
      "ua.test ../benchmark/data/\n",
      "ub.base ../benchmark/data/\n",
      "ub.test ../benchmark/data/\n"
     ]
    }
   ],
   "source": [
    "import pandas as pd\n",
    "from rectools import Columns\n",
    "\n",
    "def read_user_data(path):\n",
    "    user_feature_cols = [Columns.User, 'age', 'gender', 'occupation', 'zip_code']\n",
    "    user_data = pd.read_csv(path, sep='|', names=user_feature_cols)\n",
    "    user_data.drop(columns=['zip_code'], inplace=True)\n",
    "    user_data['age'] = user_data['age'] / user_data['age'].max()\n",
    "    return user_data\n",
    "\n",
    "def read_item_data(path, genres_list):\n",
    "    item_feature_cols = ['movie_id', 'title', 'release_date', 'video_release_date', 'IMDB_URL'] + list(genres_list)\n",
    "    item_info = pd.read_csv(path, sep='|', names=item_feature_cols, encoding='latin-1')\n",
    "    item_info.drop(columns=['title', 'release_date', 'video_release_date', 'IMDB_URL'], inplace=True)\n",
    "    return item_info\n",
    "\n",
    "def process_interaction_data(path, file):\n",
    "    interaction_data = pd.read_csv(path + file, sep='\\t', names=[*Columns.Interactions], parse_dates=[Columns.Datetime])\n",
    "    interaction_data[Columns.Datetime] = pd.to_datetime(interaction_data[Columns.Datetime], unit='s')\n",
    "    interaction_data[Columns.Weight] = interaction_data[Columns.Weight].astype(float)\n",
    "    return interaction_data\n",
    "\n",
    "def save_to_csv(data, path):\n",
    "    data.to_csv(path, index=False)\n",
    "\n",
    "raw_data_dir = '../data/raw/'\n",
    "interim_data_dir = '../data/interim/'\n",
    "benchmark_data_dir = '../benchmark/data/'\n",
    "\n",
    "data_split_filenames = [f'u{version}.{part}' for version in ['1', '2', '3', '4', '5', 'a', 'b'] for part in ['base', 'test']]\n",
    "\n",
    "user_data = read_user_data(raw_data_dir + 'u.user')\n",
    "selected_user_features = user_data.columns.drop(Columns.User).tolist()\n",
    "\n",
    "genre_data = pd.read_csv(raw_data_dir + 'u.genre', sep='|', names=['genre', 'genre_id'])\n",
    "genres_list = genre_data['genre'].unique()\n",
    "\n",
    "item_info = read_item_data(raw_data_dir + 'u.item', genres_list)\n",
    "\n",
    "# Save user and item data to CSV\n",
    "save_to_csv(user_data, interim_data_dir + 'user_data.csv')\n",
    "save_to_csv(item_info, interim_data_dir + 'item_data.csv')\n",
    "\n",
    "for file in data_split_filenames:\n",
    "    interaction_data = process_interaction_data(raw_data_dir, file)\n",
    "    output_dir = benchmark_data_dir if 'a' == file[1] or 'b' == file[1] else interim_data_dir\n",
    "    print(file, output_dir)\n",
    "    save_to_csv(interaction_data, output_dir + file + '.csv')"
   ]
  },
  {
   "cell_type": "code",
   "execution_count": null,
   "id": "dd2cc130",
   "metadata": {},
   "outputs": [],
   "source": []
  }
 ],
 "metadata": {
  "kernelspec": {
   "display_name": "Python 3 (ipykernel)",
   "language": "python",
   "name": "python3"
  },
  "language_info": {
   "codemirror_mode": {
    "name": "ipython",
    "version": 3
   },
   "file_extension": ".py",
   "mimetype": "text/x-python",
   "name": "python",
   "nbconvert_exporter": "python",
   "pygments_lexer": "ipython3",
   "version": "3.10.10"
  }
 },
 "nbformat": 4,
 "nbformat_minor": 5
}

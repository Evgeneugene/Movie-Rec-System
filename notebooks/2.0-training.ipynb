{
 "cells": [
  {
   "cell_type": "code",
   "execution_count": 1,
   "id": "bad8a4b8",
   "metadata": {},
   "outputs": [],
   "source": [
    "import pandas as pd\n",
    "from rectools import Columns\n",
    "from rectools.dataset import Dataset"
   ]
  },
  {
   "cell_type": "code",
   "execution_count": 6,
   "id": "339b7973",
   "metadata": {},
   "outputs": [],
   "source": [
    "def construct_dataset(interactions_path, user_features_path, item_features_path):\n",
    "    # Read preprocessed interaction data\n",
    "    interactions_df = pd.read_csv(interactions_path, parse_dates=[Columns.Datetime])\n",
    "\n",
    "    # Read preprocessed user features data\n",
    "    user_features_df = pd.read_csv(user_features_path)\n",
    "    # Assuming gender and occupation are categorical features\n",
    "    cat_user_features = ['gender', 'occupation']\n",
    "\n",
    "    # Read preprocessed item features data\n",
    "    item_features_df = pd.read_csv(item_features_path)\n",
    "    # Assuming all item features are numeric; adjust if you have categorical features\n",
    "    make_dense_item_features = True\n",
    "\n",
    "    # Construct the RecTools Dataset\n",
    "    dataset = Dataset.construct(\n",
    "        interactions_df=interactions_df,\n",
    "        user_features_df=user_features_df,\n",
    "        cat_user_features=cat_user_features,\n",
    "        item_features_df=item_features_df,\n",
    "        make_dense_item_features=make_dense_item_features\n",
    "    )\n",
    "\n",
    "    return dataset\n"
   ]
  },
  {
   "cell_type": "code",
   "execution_count": 8,
   "id": "455ccfe5",
   "metadata": {},
   "outputs": [
    {
     "ename": "AttributeError",
     "evalue": "module 'utils' has no attribute 'read_split_rating_dataset_with_features'",
     "output_type": "error",
     "traceback": [
      "\u001b[0;31m---------------------------------------------------------------------------\u001b[0m",
      "\u001b[0;31mAttributeError\u001b[0m                            Traceback (most recent call last)",
      "Cell \u001b[0;32mIn [8], line 2\u001b[0m\n\u001b[1;32m      1\u001b[0m \u001b[38;5;28;01mimport\u001b[39;00m \u001b[38;5;21;01mutils\u001b[39;00m\n\u001b[0;32m----> 2\u001b[0m df_train, user_features_train, item_features_train, df_test \u001b[38;5;241m=\u001b[39m \u001b[43mutils\u001b[49m\u001b[38;5;241;43m.\u001b[39;49m\u001b[43mread_split_rating_dataset_with_features\u001b[49m(\n\u001b[1;32m      3\u001b[0m     \u001b[38;5;124m'\u001b[39m\u001b[38;5;124m../data/interim/rating.csv\u001b[39m\u001b[38;5;124m'\u001b[39m, \u001b[38;5;124m'\u001b[39m\u001b[38;5;124m../data/interim/user.csv\u001b[39m\u001b[38;5;124m'\u001b[39m, \u001b[38;5;124m'\u001b[39m\u001b[38;5;124m../data/interim/movie.csv\u001b[39m\u001b[38;5;124m'\u001b[39m)\n",
      "\u001b[0;31mAttributeError\u001b[0m: module 'utils' has no attribute 'read_split_rating_dataset_with_features'"
     ]
    }
   ],
   "source": [
    "import utils\n",
    "df_train, user_features_train, item_features_train, df_test = utils.read_split_rating_dataset_with_features(\n",
    "    '../data/interim/rating.csv', '../data/interim/user_daa.csv', '../data/interim/movie.csv')"
   ]
  },
  {
   "cell_type": "code",
   "execution_count": null,
   "id": "0575aed2",
   "metadata": {},
   "outputs": [],
   "source": []
  }
 ],
 "metadata": {
  "kernelspec": {
   "display_name": "Python 3 (ipykernel)",
   "language": "python",
   "name": "python3"
  },
  "language_info": {
   "codemirror_mode": {
    "name": "ipython",
    "version": 3
   },
   "file_extension": ".py",
   "mimetype": "text/x-python",
   "name": "python",
   "nbconvert_exporter": "python",
   "pygments_lexer": "ipython3",
   "version": "3.10.10"
  }
 },
 "nbformat": 4,
 "nbformat_minor": 5
}

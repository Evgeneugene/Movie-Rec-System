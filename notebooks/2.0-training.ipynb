{
  "nbformat": 4,
  "nbformat_minor": 0,
  "metadata": {
    "colab": {
      "provenance": []
    },
    "kernelspec": {
      "name": "python3",
      "display_name": "Python 3"
    },
    "language_info": {
      "name": "python"
    }
  },
  "cells": [
    {
      "cell_type": "code",
      "source": [
        "!pip install rectools"
      ],
      "metadata": {
        "colab": {
          "base_uri": "https://localhost:8080/"
        },
        "id": "M2mdmAnYupHW",
        "outputId": "3cc6f5f8-64cf-4c07-dd3f-ab00d019ca42"
      },
      "execution_count": 2,
      "outputs": [
        {
          "output_type": "stream",
          "name": "stdout",
          "text": [
            "Collecting rectools\n",
            "  Downloading rectools-0.4.2-py3-none-any.whl (102 kB)\n",
            "\u001b[2K     \u001b[90m━━━━━━━━━━━━━━━━━━━━━━━━━━━━━━━━━━━━━━━━\u001b[0m \u001b[32m102.5/102.5 kB\u001b[0m \u001b[31m1.1 MB/s\u001b[0m eta \u001b[36m0:00:00\u001b[0m\n",
            "\u001b[?25hRequirement already satisfied: attrs<24.0.0,>=19.1.0 in /usr/local/lib/python3.10/dist-packages (from rectools) (23.1.0)\n",
            "Collecting implicit<0.8.0,>=0.7.1 (from rectools)\n",
            "  Downloading implicit-0.7.2-cp310-cp310-manylinux2014_x86_64.whl (8.9 MB)\n",
            "\u001b[2K     \u001b[90m━━━━━━━━━━━━━━━━━━━━━━━━━━━━━━━━━━━━━━━━\u001b[0m \u001b[32m8.9/8.9 MB\u001b[0m \u001b[31m31.2 MB/s\u001b[0m eta \u001b[36m0:00:00\u001b[0m\n",
            "\u001b[?25hRequirement already satisfied: numpy<2.0.0,>=1.19.5 in /usr/local/lib/python3.10/dist-packages (from rectools) (1.23.5)\n",
            "Requirement already satisfied: pandas<2.0.0,>=0.25.3 in /usr/local/lib/python3.10/dist-packages (from rectools) (1.5.3)\n",
            "Requirement already satisfied: scipy<2.0.0,>=1.5.4 in /usr/local/lib/python3.10/dist-packages (from rectools) (1.11.4)\n",
            "Requirement already satisfied: tqdm<5.0.0,>=4.27.0 in /usr/local/lib/python3.10/dist-packages (from rectools) (4.66.1)\n",
            "Collecting typeguard<3.0.0,>=2.0.1 (from rectools)\n",
            "  Downloading typeguard-2.13.3-py3-none-any.whl (17 kB)\n",
            "Requirement already satisfied: threadpoolctl in /usr/local/lib/python3.10/dist-packages (from implicit<0.8.0,>=0.7.1->rectools) (3.2.0)\n",
            "Requirement already satisfied: python-dateutil>=2.8.1 in /usr/local/lib/python3.10/dist-packages (from pandas<2.0.0,>=0.25.3->rectools) (2.8.2)\n",
            "Requirement already satisfied: pytz>=2020.1 in /usr/local/lib/python3.10/dist-packages (from pandas<2.0.0,>=0.25.3->rectools) (2023.3.post1)\n",
            "Requirement already satisfied: six>=1.5 in /usr/local/lib/python3.10/dist-packages (from python-dateutil>=2.8.1->pandas<2.0.0,>=0.25.3->rectools) (1.16.0)\n",
            "Installing collected packages: typeguard, implicit, rectools\n",
            "Successfully installed implicit-0.7.2 rectools-0.4.2 typeguard-2.13.3\n"
          ]
        }
      ]
    },
    {
      "cell_type": "code",
      "source": [
        "!git clone https://github.com/Evgeneugene/Movie-Rec-System.git"
      ],
      "metadata": {
        "colab": {
          "base_uri": "https://localhost:8080/"
        },
        "id": "5TxW62nmk9Dx",
        "outputId": "edcd6e2d-778d-416e-afaa-537773636fb0"
      },
      "execution_count": 6,
      "outputs": [
        {
          "output_type": "stream",
          "name": "stdout",
          "text": [
            "Cloning into 'Movie-Rec-System'...\n",
            "remote: Enumerating objects: 53, done.\u001b[K\n",
            "remote: Counting objects: 100% (53/53), done.\u001b[K\n",
            "remote: Compressing objects: 100% (37/37), done.\u001b[K\n",
            "remote: Total 53 (delta 14), reused 53 (delta 14), pack-reused 0\u001b[K\n",
            "Receiving objects: 100% (53/53), 5.25 MiB | 6.31 MiB/s, done.\n",
            "Resolving deltas: 100% (14/14), done.\n"
          ]
        }
      ]
    },
    {
      "cell_type": "code",
      "source": [
        "%cd notebooks"
      ],
      "metadata": {
        "colab": {
          "base_uri": "https://localhost:8080/"
        },
        "id": "l8TeAiJFmh_2",
        "outputId": "72239b49-428f-4b76-c494-bb94a206c60b"
      },
      "execution_count": 13,
      "outputs": [
        {
          "output_type": "stream",
          "name": "stdout",
          "text": [
            "/content/Movie-Rec-System/notebooks\n"
          ]
        }
      ]
    },
    {
      "cell_type": "code",
      "source": [
        "import pandas as pd\n",
        "import pandas as pd\n",
        "from rectools import Columns\n",
        "from rectools.dataset import Dataset\n",
        "\n",
        "data_interim_dir = '../data/interim/'\n",
        "user_groups = ['u1', 'u2', 'u3', 'u4', 'u5']\n",
        "data_splits = ['base', 'test']\n",
        "\n",
        "datasets = {}\n",
        "\n",
        "for user_group in user_groups:\n",
        "    for split in data_splits:\n",
        "        # Construct file paths\n",
        "        interactions_path = f\"{data_interim_dir}{user_group}.{split}.csv\"\n",
        "        user_features_path = f\"{data_interim_dir}{user_group}.{split}_user_features.csv\"\n",
        "        item_features_path = f\"{data_interim_dir}{user_group}.{split}_item_features.csv\"\n",
        "\n",
        "        # Read the data from CSV files\n",
        "        interactions_df = pd.read_csv(interactions_path)\n",
        "        user_features_df = pd.read_csv(user_features_path)\n",
        "        item_features_df = pd.read_csv(item_features_path)\n",
        "\n",
        "        dataset = Dataset.construct(\n",
        "            interactions_df,\n",
        "            user_features_df=user_features_df,\n",
        "            cat_user_features=['gender', 'occupation'],  # If these were the categorical features\n",
        "            item_features_df=item_features_df,\n",
        "            make_dense_item_features=True  # If this is still applicable\n",
        "        )\n",
        "\n",
        "        # Store in the data dictionary\n",
        "        if user_group not in datasets:\n",
        "            datasets[user_group] = {}\n",
        "\n",
        "        datasets[user_group][split] = (dataset, interactions_df)"
      ],
      "metadata": {
        "id": "o1w-nMxunk7i"
      },
      "execution_count": 15,
      "outputs": []
    },
    {
      "cell_type": "code",
      "source": [
        "from rectools.models import ImplicitALSWrapperModel, ImplicitItemKNNWrapperModel, LightFMWrapperModel, RandomModel, PureSVDModel, PopularModel\n",
        "from rectools.metrics import NDCG, Accuracy, MAP\n",
        "from rectools import Columns\n",
        "from implicit.nearest_neighbours import TFIDFRecommender\n",
        "\n",
        "k = 10\n",
        "ndcg = NDCG(k=k, log_base=3)\n",
        "acc = Accuracy(k=k)\n",
        "mmap = MAP(k=k)\n",
        "\n",
        "# Define a list of models to test\n",
        "models = [\n",
        "    ('Random', RandomModel()),\n",
        "    ('ImplicitItemKNN', ImplicitItemKNNWrapperModel(model=TFIDFRecommender(K=10))),\n",
        "    # ('LightFM', LightFMWrapperModel()),\n",
        "    ('PureSVD', PureSVDModel()),\n",
        "    ('Popular', PopularModel())\n",
        "]\n",
        "\n",
        "for ug in datasets.keys():\n",
        "    base_ds = datasets[ug]['base'][0]\n",
        "    base_df = datasets[ug]['base'][1]\n",
        "    test_ds = datasets[ug]['test'][0]\n",
        "    test_df = datasets[ug]['test'][1]\n",
        "\n",
        "    for model_name, model in models:\n",
        "        # Fit the model\n",
        "        model.fit(base_ds)\n",
        "\n",
        "        # Generate recommendations\n",
        "        recos = model.recommend(\n",
        "            users=test_df[Columns.User].unique(),\n",
        "            dataset=base_ds,\n",
        "            k=10,\n",
        "            filter_viewed=True,\n",
        "        )\n",
        "\n",
        "        # Evaluate the model\n",
        "        print(f'{model_name} on {ug} split')\n",
        "        print('MAP: ', mmap.calc(reco=recos, interactions=test_df))\n",
        "        print(\"Accuracy: \", acc.calc(reco=recos, interactions=test_df, catalog=base_df[Columns.Item]))\n",
        "        print(\"NDCG: \", ndcg.calc(reco=recos, interactions=test_df))\n",
        "        print()\n"
      ],
      "metadata": {
        "colab": {
          "base_uri": "https://localhost:8080/"
        },
        "id": "5Bukctebnwtw",
        "outputId": "72479332-c98c-487f-c2fd-a94031511803"
      },
      "execution_count": 36,
      "outputs": [
        {
          "output_type": "stream",
          "name": "stdout",
          "text": [
            "Random on u1 split\n",
            "MAP:  0.0022288911966132285\n",
            "Accuracy:  0.9993376361655776\n",
            "NDCG:  0.02919294326504939\n",
            "\n",
            "ImplicitItemKNN on u1 split\n",
            "MAP:  0.11095594568471655\n",
            "Accuracy:  0.9994421023965141\n",
            "NDCG:  0.47923027186404077\n",
            "\n",
            "PureSVD on u1 split\n",
            "MAP:  0.12490142060896098\n",
            "Accuracy:  0.9994523420479304\n",
            "NDCG:  0.528658583680511\n",
            "\n",
            "Popular on u1 split\n",
            "MAP:  0.0515884623370606\n",
            "Accuracy:  0.9994066448801744\n",
            "NDCG:  0.320243894441263\n",
            "\n",
            "Random on u2 split\n",
            "MAP:  0.001821836400290521\n",
            "Accuracy:  0.9994977029096477\n",
            "NDCG:  0.021181258836976743\n",
            "\n",
            "ImplicitItemKNN on u2 split\n",
            "MAP:  0.12252065805277586\n",
            "Accuracy:  0.9995877488514548\n",
            "NDCG:  0.41468383065947245\n",
            "\n",
            "PureSVD on u2 split\n",
            "MAP:  0.13517649746661312\n",
            "Accuracy:  0.999595290964778\n",
            "NDCG:  0.449230375655791\n",
            "\n",
            "Popular on u2 split\n",
            "MAP:  0.0565423486642172\n",
            "Accuracy:  0.9995541730474733\n",
            "NDCG:  0.26440298998043166\n",
            "\n",
            "Random on u3 split\n",
            "MAP:  0.001706077073947863\n",
            "Accuracy:  0.9995909953970081\n",
            "NDCG:  0.01478114803666619\n",
            "\n",
            "ImplicitItemKNN on u3 split\n",
            "MAP:  0.1161651980713301\n",
            "Accuracy:  0.9996657940161106\n",
            "NDCG:  0.3429152253413324\n",
            "\n",
            "PureSVD on u3 split\n",
            "MAP:  0.12955316430597238\n",
            "Accuracy:  0.9996746260069044\n",
            "NDCG:  0.3790986770716973\n",
            "\n",
            "Popular on u3 split\n",
            "MAP:  0.05668825595875101\n",
            "Accuracy:  0.9996364211737631\n",
            "NDCG:  0.21313056029600302\n",
            "\n",
            "Random on u4 split\n",
            "MAP:  0.002005570135303279\n",
            "Accuracy:  0.9996076381365113\n",
            "NDCG:  0.013803914383796597\n",
            "\n",
            "ImplicitItemKNN on u4 split\n",
            "MAP:  0.12060826766232134\n",
            "Accuracy:  0.9996797399783316\n",
            "NDCG:  0.3362310065152404\n",
            "\n",
            "PureSVD on u4 split\n",
            "MAP:  0.13722123371125586\n",
            "Accuracy:  0.999688136511376\n",
            "NDCG:  0.37142655587903717\n",
            "\n",
            "Popular on u4 split\n",
            "MAP:  0.052612425440435574\n",
            "Accuracy:  0.9996504875406285\n",
            "NDCG:  0.19715029155177874\n",
            "\n",
            "Random on u5 split\n",
            "MAP:  0.0017664901737614689\n",
            "Accuracy:  0.9996091154261058\n",
            "NDCG:  0.014519397530616878\n",
            "\n",
            "ImplicitItemKNN on u5 split\n",
            "MAP:  0.12056638664275297\n",
            "Accuracy:  0.999678640776699\n",
            "NDCG:  0.32096577240299784\n",
            "\n",
            "PureSVD on u5 split\n",
            "MAP:  0.13531015524298964\n",
            "Accuracy:  0.9996844120819849\n",
            "NDCG:  0.35023119831861615\n",
            "\n",
            "Popular on u5 split\n",
            "MAP:  0.05432205905899851\n",
            "Accuracy:  0.9996495954692556\n",
            "NDCG:  0.18935083809348333\n",
            "\n"
          ]
        }
      ]
    },
    {
      "cell_type": "code",
      "source": [],
      "metadata": {
        "id": "za2a_VR3s6G_"
      },
      "execution_count": null,
      "outputs": []
    }
  ]
}